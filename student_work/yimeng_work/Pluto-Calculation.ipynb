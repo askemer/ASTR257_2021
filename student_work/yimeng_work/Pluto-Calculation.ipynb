{
 "cells": [
  {
   "cell_type": "code",
   "execution_count": 1,
   "metadata": {
    "ExecuteTime": {
     "end_time": "2021-09-21T16:53:53.505762Z",
     "start_time": "2021-09-21T16:53:53.140659Z"
    }
   },
   "outputs": [],
   "source": [
    "import numpy as np"
   ]
  },
  {
   "cell_type": "code",
   "execution_count": 2,
   "metadata": {
    "ExecuteTime": {
     "end_time": "2021-09-21T16:53:54.077161Z",
     "start_time": "2021-09-21T16:53:54.069248Z"
    }
   },
   "outputs": [
    {
     "name": "stdout",
     "output_type": "stream",
     "text": [
      "Movement of Pluto: 27.077921801073092 arcsec\n"
     ]
    }
   ],
   "source": [
    "DAY1_X=np.array([434.1857556082681,386.65114098184495,385.6809935651333,170.2563396825147,543.6249096989393])\n",
    "DAY1_Y=np.array([122.36612690554284,114.8185165142893,379.9314392297317,582.0226508871069,732.5631282995744])\n",
    "DAY1_X_Pluto=469.22890674857314\n",
    "DAY1_Y_Pluto=468.3492989570951\n",
    "DAY2_X=np.array([460.80857677977866,413.46936561879255,412.5276227780581,196.9350637864108,570.0313587952996])\n",
    "DAY2_Y=np.array([91.05173647625367,83.8025565851776,348.9355125467539,551.0842946753647,701.1532862046578])\n",
    "DAY2_X_Pluto=565.8412713653677\n",
    "DAY2_Y_Pluto=460.0817147080211\n",
    "delta_x=np.mean(DAY2_X-DAY1_X)\n",
    "delta_y=np.mean(DAY2_Y-DAY1_Y)\n",
    "delta_Pluto=np.sqrt((DAY2_X_Pluto-delta_x-DAY1_X_Pluto)**2+(DAY2_Y_Pluto-delta_y-DAY1_Y_Pluto)**2)\n",
    "theta=delta_Pluto*0.368\n",
    "print('Movement of Pluto:',theta,'arcsec')"
   ]
  },
  {
   "cell_type": "code",
   "execution_count": 3,
   "metadata": {
    "ExecuteTime": {
     "end_time": "2021-09-21T16:54:12.268721Z",
     "start_time": "2021-09-21T16:54:12.260928Z"
    }
   },
   "outputs": [
    {
     "name": "stdout",
     "output_type": "stream",
     "text": [
      "If Assume Pluto at Opposition: 131.12193796212648 AU\n"
     ]
    }
   ],
   "source": [
    "dis_pluto=np.sin(360/365/180*np.pi)*(1.5*10**11)/np.sin(theta/3600/180*np.pi)\n",
    "print('If Assume Pluto at Opposition:',dis_pluto/1e11/1.5,'AU')"
   ]
  },
  {
   "cell_type": "code",
   "execution_count": 4,
   "metadata": {
    "ExecuteTime": {
     "end_time": "2021-09-21T16:54:32.869499Z",
     "start_time": "2021-09-21T16:54:32.860351Z"
    }
   },
   "outputs": [
    {
     "data": {
      "text/plain": [
       "115.96803219"
      ]
     },
     "execution_count": 4,
     "metadata": {},
     "output_type": "execute_result"
    }
   ],
   "source": [
    "#Sun-Earth-Pluto Angle on 9/20 4am UT\n",
    "294.07808793-177.12562316\n",
    "\n",
    "#Sun-Earth-Pluto Angle on 9/21 4am UT\n",
    "294.07057762-178.10254543"
   ]
  },
  {
   "cell_type": "code",
   "execution_count": 5,
   "metadata": {
    "ExecuteTime": {
     "end_time": "2021-09-21T16:54:35.989342Z",
     "start_time": "2021-09-21T16:54:35.983400Z"
    }
   },
   "outputs": [
    {
     "name": "stdout",
     "output_type": "stream",
     "text": [
      "If Assume Pluto not at Opposition: 60.437187264738036 AU\n"
     ]
    }
   ],
   "source": [
    "DIST2=1.5*1e11*2*np.sin(360/365/2/180*np.pi)*np.sin((116.95246476999998-(180-360/365)/2)/180*np.pi)/(theta/3600/180*np.pi)/(1.5*1e11)\n",
    "print('If Assume Pluto not at Opposition:',DIST2,'AU')"
   ]
  },
  {
   "cell_type": "code",
   "execution_count": 6,
   "metadata": {
    "ExecuteTime": {
     "end_time": "2021-09-21T16:54:43.804924Z",
     "start_time": "2021-09-21T16:54:43.797662Z"
    }
   },
   "outputs": [
    {
     "name": "stdout",
     "output_type": "stream",
     "text": [
      "If Assume Pluto not at Opposition: 58.425143744905945 AU\n"
     ]
    }
   ],
   "source": [
    "DIST2=1.5*1e11*2*np.sin(360/365/2/180*np.pi)*np.cos((270-116.95246476999998-(180-360/365)/2)/180*np.pi)/(theta/3600/180*np.pi)/(1.5*1e11)\n",
    "print('If Assume Pluto not at Opposition:',DIST2,'AU')"
   ]
  },
  {
   "cell_type": "code",
   "execution_count": 8,
   "metadata": {
    "ExecuteTime": {
     "end_time": "2021-09-21T16:55:03.930512Z",
     "start_time": "2021-09-21T16:55:03.923004Z"
    }
   },
   "outputs": [
    {
     "name": "stdout",
     "output_type": "stream",
     "text": [
      "Speed of Pluto: 14.307636259259668 arcsec/day\n",
      "If Assume Pluto itself is also moving: 38.22665556991398 AU\n"
     ]
    }
   ],
   "source": [
    "theta2=360/90581*3600\n",
    "print('Speed of Pluto:',theta2,'arcsec/day')\n",
    "\n",
    "DIST3=1.5*1e11*2*np.sin(360/365/2/180*np.pi)*np.cos((270-116.95246476999998-(180-360/365)/2)/180*np.pi)/((theta+theta2)/3600/180*np.pi)/(1.5*1e11)\n",
    "print('If Assume Pluto itself is also moving:',DIST3,'AU')"
   ]
  },
  {
   "cell_type": "code",
   "execution_count": null,
   "metadata": {},
   "outputs": [],
   "source": [
    "#Right answer for 9/21 is 34 AU"
   ]
  }
 ],
 "metadata": {
  "kernelspec": {
   "display_name": "Python 3",
   "language": "python",
   "name": "python3"
  },
  "language_info": {
   "codemirror_mode": {
    "name": "ipython",
    "version": 3
   },
   "file_extension": ".py",
   "mimetype": "text/x-python",
   "name": "python",
   "nbconvert_exporter": "python",
   "pygments_lexer": "ipython3",
   "version": "3.7.4"
  },
  "latex_envs": {
   "LaTeX_envs_menu_present": true,
   "autoclose": false,
   "autocomplete": true,
   "bibliofile": "biblio.bib",
   "cite_by": "apalike",
   "current_citInitial": 1,
   "eqLabelWithNumbers": true,
   "eqNumInitial": 1,
   "hotkeys": {
    "equation": "Ctrl-E",
    "itemize": "Ctrl-I"
   },
   "labels_anchors": false,
   "latex_user_defs": false,
   "report_style_numbering": false,
   "user_envs_cfg": false
  }
 },
 "nbformat": 4,
 "nbformat_minor": 2
}
