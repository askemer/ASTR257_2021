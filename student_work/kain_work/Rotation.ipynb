{
 "cells": [
  {
   "cell_type": "code",
   "execution_count": 3,
   "id": "0aa0a06c",
   "metadata": {
    "ExecuteTime": {
     "end_time": "2021-09-24T06:18:16.997992Z",
     "start_time": "2021-09-24T06:18:16.993666Z"
    }
   },
   "outputs": [],
   "source": [
    "import numpy as np\n",
    "import pandas as pd\n",
    "import matplotlib.pyplot as plt\n",
    "import glob\n",
    "\n",
    "from astropy.io import fits\n",
    "\n",
    "import scipy.stats as stats\n",
    "from scipy.signal import find_peaks"
   ]
  },
  {
   "cell_type": "code",
   "execution_count": 10,
   "id": "36590e44",
   "metadata": {
    "ExecuteTime": {
     "end_time": "2021-09-24T06:30:30.478348Z",
     "start_time": "2021-09-24T06:30:30.472083Z"
    }
   },
   "outputs": [],
   "source": [
    "def median_frames(folder, filenames, shape=(2048, 2048)):\n",
    "\n",
    "    cube = np.zeros((len(filenames), shape[0], shape[1]))\n",
    "\n",
    "    for i, f in enumerate(filenames):\n",
    "\n",
    "        hdul = fits.open(f'{folder}/{f}.fits')\n",
    "        cube[i, :, :] = hdul[0].data\n",
    "        hdul.close()\n",
    "\n",
    "    cube_med = np.median(cube, axis=0)\n",
    "\n",
    "    return cube_med"
   ]
  },
  {
   "cell_type": "markdown",
   "id": "3a4f26e5",
   "metadata": {
    "heading_collapsed": true
   },
   "source": [
    "### Housekeeping"
   ]
  },
  {
   "cell_type": "code",
   "execution_count": 5,
   "id": "db82a315",
   "metadata": {
    "ExecuteTime": {
     "end_time": "2021-09-24T06:20:41.304917Z",
     "start_time": "2021-09-24T06:20:41.221020Z"
    },
    "hidden": true
   },
   "outputs": [
    {
     "data": {
      "text/html": [
       "<div>\n",
       "<style scoped>\n",
       "    .dataframe tbody tr th:only-of-type {\n",
       "        vertical-align: middle;\n",
       "    }\n",
       "\n",
       "    .dataframe tbody tr th {\n",
       "        vertical-align: top;\n",
       "    }\n",
       "\n",
       "    .dataframe thead th {\n",
       "        text-align: right;\n",
       "    }\n",
       "</style>\n",
       "<table border=\"1\" class=\"dataframe\">\n",
       "  <thead>\n",
       "    <tr style=\"text-align: right;\">\n",
       "      <th></th>\n",
       "      <th>Path</th>\n",
       "      <th>Filename</th>\n",
       "      <th>Target</th>\n",
       "    </tr>\n",
       "  </thead>\n",
       "  <tbody>\n",
       "    <tr>\n",
       "      <th>0</th>\n",
       "      <td>/Users/isabelkain/Downloads/UGC11876</td>\n",
       "      <td>r1050</td>\n",
       "      <td>ArcFlat</td>\n",
       "    </tr>\n",
       "    <tr>\n",
       "      <th>1</th>\n",
       "      <td>/Users/isabelkain/Downloads/UGC11876</td>\n",
       "      <td>r1051</td>\n",
       "      <td>ArcFlat</td>\n",
       "    </tr>\n",
       "    <tr>\n",
       "      <th>2</th>\n",
       "      <td>/Users/isabelkain/Downloads/UGC11876</td>\n",
       "      <td>r1052</td>\n",
       "      <td>ArcFlat</td>\n",
       "    </tr>\n",
       "    <tr>\n",
       "      <th>3</th>\n",
       "      <td>/Users/isabelkain/Downloads/UGC11876</td>\n",
       "      <td>r1053</td>\n",
       "      <td>ArcFlat</td>\n",
       "    </tr>\n",
       "    <tr>\n",
       "      <th>4</th>\n",
       "      <td>/Users/isabelkain/Downloads/UGC11876</td>\n",
       "      <td>r1054</td>\n",
       "      <td>ArcFlat</td>\n",
       "    </tr>\n",
       "    <tr>\n",
       "      <th>5</th>\n",
       "      <td>/Users/isabelkain/Downloads/UGC11876</td>\n",
       "      <td>r1055</td>\n",
       "      <td>DomeFlat</td>\n",
       "    </tr>\n",
       "    <tr>\n",
       "      <th>6</th>\n",
       "      <td>/Users/isabelkain/Downloads/UGC11876</td>\n",
       "      <td>r1056</td>\n",
       "      <td>DomeFlat</td>\n",
       "    </tr>\n",
       "    <tr>\n",
       "      <th>7</th>\n",
       "      <td>/Users/isabelkain/Downloads/UGC11876</td>\n",
       "      <td>r1057</td>\n",
       "      <td>DomeFlat</td>\n",
       "    </tr>\n",
       "    <tr>\n",
       "      <th>8</th>\n",
       "      <td>/Users/isabelkain/Downloads/UGC11876</td>\n",
       "      <td>r1058</td>\n",
       "      <td>DomeFlat</td>\n",
       "    </tr>\n",
       "    <tr>\n",
       "      <th>9</th>\n",
       "      <td>/Users/isabelkain/Downloads/UGC11876</td>\n",
       "      <td>r1059</td>\n",
       "      <td>DomeFlat</td>\n",
       "    </tr>\n",
       "    <tr>\n",
       "      <th>10</th>\n",
       "      <td>/Users/isabelkain/Downloads/UGC11876</td>\n",
       "      <td>r1060</td>\n",
       "      <td>Bias</td>\n",
       "    </tr>\n",
       "    <tr>\n",
       "      <th>11</th>\n",
       "      <td>/Users/isabelkain/Downloads/UGC11876</td>\n",
       "      <td>r1061</td>\n",
       "      <td>Bias</td>\n",
       "    </tr>\n",
       "    <tr>\n",
       "      <th>12</th>\n",
       "      <td>/Users/isabelkain/Downloads/UGC11876</td>\n",
       "      <td>r1062</td>\n",
       "      <td>Bias</td>\n",
       "    </tr>\n",
       "    <tr>\n",
       "      <th>13</th>\n",
       "      <td>/Users/isabelkain/Downloads/UGC11876</td>\n",
       "      <td>r1063</td>\n",
       "      <td>Bias</td>\n",
       "    </tr>\n",
       "    <tr>\n",
       "      <th>14</th>\n",
       "      <td>/Users/isabelkain/Downloads/UGC11876</td>\n",
       "      <td>r1064</td>\n",
       "      <td>Bias</td>\n",
       "    </tr>\n",
       "    <tr>\n",
       "      <th>15</th>\n",
       "      <td>/Users/isabelkain/Downloads/UGC11876</td>\n",
       "      <td>r1158</td>\n",
       "      <td>Science</td>\n",
       "    </tr>\n",
       "    <tr>\n",
       "      <th>16</th>\n",
       "      <td>/Users/isabelkain/Downloads/UGC11876</td>\n",
       "      <td>r1159</td>\n",
       "      <td>Science</td>\n",
       "    </tr>\n",
       "    <tr>\n",
       "      <th>17</th>\n",
       "      <td>/Users/isabelkain/Downloads/UGC11876</td>\n",
       "      <td>r1160</td>\n",
       "      <td>Science</td>\n",
       "    </tr>\n",
       "    <tr>\n",
       "      <th>18</th>\n",
       "      <td>/Users/isabelkain/Downloads/UGC11876</td>\n",
       "      <td>r1161</td>\n",
       "      <td>Science</td>\n",
       "    </tr>\n",
       "    <tr>\n",
       "      <th>19</th>\n",
       "      <td>/Users/isabelkain/Downloads/UGC11876</td>\n",
       "      <td>r1162</td>\n",
       "      <td>Science</td>\n",
       "    </tr>\n",
       "    <tr>\n",
       "      <th>20</th>\n",
       "      <td>/Users/isabelkain/Downloads/UGC11876</td>\n",
       "      <td>r1163</td>\n",
       "      <td>Science</td>\n",
       "    </tr>\n",
       "    <tr>\n",
       "      <th>21</th>\n",
       "      <td>/Users/isabelkain/Downloads/UGC11876</td>\n",
       "      <td>r1166</td>\n",
       "      <td>UGC11876</td>\n",
       "    </tr>\n",
       "  </tbody>\n",
       "</table>\n",
       "</div>"
      ],
      "text/plain": [
       "                                    Path Filename    Target\n",
       "0   /Users/isabelkain/Downloads/UGC11876    r1050   ArcFlat\n",
       "1   /Users/isabelkain/Downloads/UGC11876    r1051   ArcFlat\n",
       "2   /Users/isabelkain/Downloads/UGC11876    r1052   ArcFlat\n",
       "3   /Users/isabelkain/Downloads/UGC11876    r1053   ArcFlat\n",
       "4   /Users/isabelkain/Downloads/UGC11876    r1054   ArcFlat\n",
       "5   /Users/isabelkain/Downloads/UGC11876    r1055  DomeFlat\n",
       "6   /Users/isabelkain/Downloads/UGC11876    r1056  DomeFlat\n",
       "7   /Users/isabelkain/Downloads/UGC11876    r1057  DomeFlat\n",
       "8   /Users/isabelkain/Downloads/UGC11876    r1058  DomeFlat\n",
       "9   /Users/isabelkain/Downloads/UGC11876    r1059  DomeFlat\n",
       "10  /Users/isabelkain/Downloads/UGC11876    r1060      Bias\n",
       "11  /Users/isabelkain/Downloads/UGC11876    r1061      Bias\n",
       "12  /Users/isabelkain/Downloads/UGC11876    r1062      Bias\n",
       "13  /Users/isabelkain/Downloads/UGC11876    r1063      Bias\n",
       "14  /Users/isabelkain/Downloads/UGC11876    r1064      Bias\n",
       "15  /Users/isabelkain/Downloads/UGC11876    r1158   Science\n",
       "16  /Users/isabelkain/Downloads/UGC11876    r1159   Science\n",
       "17  /Users/isabelkain/Downloads/UGC11876    r1160   Science\n",
       "18  /Users/isabelkain/Downloads/UGC11876    r1161   Science\n",
       "19  /Users/isabelkain/Downloads/UGC11876    r1162   Science\n",
       "20  /Users/isabelkain/Downloads/UGC11876    r1163   Science\n",
       "21  /Users/isabelkain/Downloads/UGC11876    r1166  UGC11876"
      ]
     },
     "execution_count": 5,
     "metadata": {},
     "output_type": "execute_result"
    }
   ],
   "source": [
    "folder = '/Users/isabelkain/Downloads/UGC11876'\n",
    "filelist = glob.glob(f'{folder}/*.fits')\n",
    "\n",
    "## Generate list of filenames\n",
    "\n",
    "fnames = np.array([])\n",
    "fpaths = np.array([])\n",
    "\n",
    "for f in filelist:\n",
    "    txt = f.split('/')[-1].split('.')[0]  # reduce full path to just file name (w/out extension)\n",
    "    fnames = np.append(fnames, txt)\n",
    "    fpaths = np.append(fpaths, f[:-11])\n",
    "\n",
    "## List of filetypes (e.g. bias, flat, science, etc)\n",
    "\n",
    "ftypes = np.array([])\n",
    "\n",
    "for f in filelist:\n",
    "\n",
    "    hdul = fits.open(f)\n",
    "    tag = hdul[0].header['OBJECT']\n",
    "    hdul.close()\n",
    "\n",
    "    ftypes = np.append(ftypes, tag)\n",
    "\n",
    "## Zip filenames and types into pandas DF\n",
    "\n",
    "filedict = pd.DataFrame(np.array([fpaths, fnames, ftypes]).T, columns=['Path', 'Filename', 'Target'])\n",
    "filedict.sort_values(by='Filename', inplace=True, ignore_index=True)\n",
    "filedict"
   ]
  },
  {
   "cell_type": "code",
   "execution_count": 6,
   "id": "ea04e72d",
   "metadata": {
    "ExecuteTime": {
     "end_time": "2021-09-24T06:26:55.672380Z",
     "start_time": "2021-09-24T06:26:55.654974Z"
    },
    "hidden": true
   },
   "outputs": [],
   "source": [
    "sci_ix = (filedict['Target']=='Science')\n",
    "bias_ix = (filedict['Target']=='Bias')\n",
    "flat_ix = (filedict['Target']=='DomeFlat')\n",
    "arc_ix = (filedict['Target']=='ArcFlat')"
   ]
  },
  {
   "cell_type": "markdown",
   "id": "d4f1c214",
   "metadata": {
    "heading_collapsed": true
   },
   "source": [
    "###  Pixel calibration"
   ]
  },
  {
   "cell_type": "code",
   "execution_count": 17,
   "id": "9a321ec0",
   "metadata": {
    "ExecuteTime": {
     "end_time": "2021-09-24T06:32:46.731336Z",
     "start_time": "2021-09-24T06:32:46.322815Z"
    },
    "hidden": true
   },
   "outputs": [
    {
     "data": {
      "text/plain": [
       "<matplotlib.colorbar.Colorbar at 0x7fc92337dd00>"
      ]
     },
     "execution_count": 17,
     "metadata": {},
     "output_type": "execute_result"
    },
    {
     "data": {
      "image/png": "[encoded data removed]",
      "text/plain": [
       "<Figure size 432x288 with 2 Axes>"
      ]
     },
     "metadata": {
      "needs_background": "light"
     },
     "output_type": "display_data"
    }
   ],
   "source": [
    "fnames = filedict[arc_ix]['Filename'].array\n",
    "fpaths = filedict[arc_ix]['Path'].array\n",
    "\n",
    "arc_img = median_frames(fpaths[0], fnames, shape=(2120,800))\n",
    "\n",
    "plt.imshow(arc_img, vmin=0, vmax=10000)\n",
    "plt.colorbar()"
   ]
  },
  {
   "cell_type": "code",
   "execution_count": 25,
   "id": "8e46fd64",
   "metadata": {
    "ExecuteTime": {
     "end_time": "2021-09-24T06:34:37.870581Z",
     "start_time": "2021-09-24T06:34:37.749825Z"
    },
    "hidden": true
   },
   "outputs": [
    {
     "data": {
      "text/plain": [
       "(0.0, 2130.0)"
      ]
     },
     "execution_count": 25,
     "metadata": {},
     "output_type": "execute_result"
    },
    {
     "data": {
      "image/png": "[encoded data removed]",
      "text/plain": [
       "<Figure size 1152x288 with 1 Axes>"
      ]
     },
     "metadata": {
      "needs_background": "light"
     },
     "output_type": "display_data"
    }
   ],
   "source": [
    "arc_spectrum = arc_img[:, 300]\n",
    "\n",
    "plt.figure(figsize=(16,4))\n",
    "plt.plot(arc_spectrum)\n",
    "\n",
    "plt.ylabel('Detector counts')\n",
    "plt.xlabel('[pixels]')\n",
    "plt.xlim(0, len(arc_spectrum)+10)"
   ]
  },
  {
   "cell_type": "code",
   "execution_count": 42,
   "id": "7bea57bb",
   "metadata": {
    "ExecuteTime": {
     "end_time": "2021-09-24T07:03:09.971844Z",
     "start_time": "2021-09-24T07:03:09.851019Z"
    },
    "hidden": true
   },
   "outputs": [
    {
     "data": {
      "text/plain": [
       "(0.0, 2130.0)"
      ]
     },
     "execution_count": 42,
     "metadata": {},
     "output_type": "execute_result"
    },
    {
     "data": {
      "image/png": "[encoded data removed]",
      "text/plain": [
       "<Figure size 1152x288 with 1 Axes>"
      ]
     },
     "metadata": {
      "needs_background": "light"
     },
     "output_type": "display_data"
    }
   ],
   "source": [
    "peak_indices, __ = find_peaks(arc_spectrum, prominence=80, height=2000)\n",
    "\n",
    "plt.figure(figsize=(16,4))\n",
    "plt.plot(arc_spectrum)\n",
    "plt.scatter(peak_indices, arc_spectrum[peak_indices], marker='+', color='r')\n",
    "\n",
    "plt.ylabel('Detector counts')\n",
    "plt.xlabel('[pixels]')\n",
    "plt.xlim(0, len(arc_spectrum)+10)"
   ]
  },
  {
   "cell_type": "code",
   "execution_count": 43,
   "id": "44ffcf31",
   "metadata": {
    "ExecuteTime": {
     "end_time": "2021-09-24T07:06:53.466589Z",
     "start_time": "2021-09-24T07:06:53.461758Z"
    },
    "hidden": true
   },
   "outputs": [
    {
     "data": {
      "text/plain": [
       "24"
      ]
     },
     "execution_count": 43,
     "metadata": {},
     "output_type": "execute_result"
    }
   ],
   "source": [
    "len(peak_indices)"
   ]
  },
  {
   "cell_type": "code",
   "execution_count": 46,
   "id": "0c013694",
   "metadata": {
    "ExecuteTime": {
     "end_time": "2021-09-24T07:13:08.584998Z",
     "start_time": "2021-09-24T07:13:08.469435Z"
    },
    "hidden": true
   },
   "outputs": [
    {
     "data": {
      "text/plain": [
       "<matplotlib.collections.PathCollection at 0x7fc950bbabe0>"
      ]
     },
     "execution_count": 46,
     "metadata": {},
     "output_type": "execute_result"
    },
    {
     "data": {
      "image/png": "[encoded data removed]",
      "text/plain": [
       "<Figure size 432x288 with 1 Axes>"
      ]
     },
     "metadata": {
      "needs_background": "light"
     },
     "output_type": "display_data"
    }
   ],
   "source": [
    "wvl = {'h':594.483,\n",
    "       'i':597.528,\n",
    "       'j':603.000,\n",
    "       'k':607.434,\n",
    "       'l':609.616,\n",
    "       'm':614.306,\n",
    "       'n':616.359,\n",
    "       'o':621.728,\n",
    "       'p':626.650,\n",
    "       'q':630.479,\n",
    "       'r':633.440,\n",
    "       's':638.299,\n",
    "       't':640.225,\n",
    "       'u':650.653,\n",
    "       'v':653.288,\n",
    "       'w':659.895,\n",
    "       'x':667.820,\n",
    "       'y':671.704,\n",
    "#        'a':340.365,\n",
    "#        'b':346.655,\n",
    "#        'c':361.051,\n",
    "#        'd':365.015,\n",
    "#        'e':366.288,\n",
    "        }\n",
    "\n",
    "a = peak_indices[0]\n",
    "b = peak_indices[1]\n",
    "c = peak_indices[2]\n",
    "d = peak_indices[3]\n",
    "e = peak_indices[4]\n",
    "h = peak_indices[5]\n",
    "i = peak_indices[6]\n",
    "j = peak_indices[7]\n",
    "k = peak_indices[8]\n",
    "l = peak_indices[9]\n",
    "m = peak_indices[10]\n",
    "n = peak_indices[11]\n",
    "o = peak_indices[12]\n",
    "p = peak_indices[13]\n",
    "q = peak_indices[14]\n",
    "r = peak_indices[15]\n",
    "s = peak_indices[16]\n",
    "t = peak_indices[17]\n",
    "u = peak_indices[18]\n",
    "v = peak_indices[19]\n",
    "w = peak_indices[20]\n",
    "x = peak_indices[21]\n",
    "y = peak_indices[22]\n",
    "# z = ??? not on lamp calibration plot\n",
    "\n",
    "indices = np.array([h, i, j, k, l, m, n, o, p, q, r, s, t, u, v, w, x, y])\n",
    "wvl_vals = np.array(list(wvl.values()))\n",
    "\n",
    "\n",
    "plt.scatter(indices, wvl_vals)"
   ]
  },
  {
   "cell_type": "code",
   "execution_count": 47,
   "id": "ec45ff80",
   "metadata": {
    "ExecuteTime": {
     "end_time": "2021-09-24T07:13:49.904727Z",
     "start_time": "2021-09-24T07:13:49.772572Z"
    },
    "hidden": true
   },
   "outputs": [
    {
     "name": "stdout",
     "output_type": "stream",
     "text": [
      "[3.93714224e-08 6.47079227e-02 5.57340451e+02]\n"
     ]
    },
    {
     "data": {
      "text/plain": [
       "<matplotlib.legend.Legend at 0x7fc930930220>"
      ]
     },
     "execution_count": 47,
     "metadata": {},
     "output_type": "execute_result"
    },
    {
     "data": {
      "image/png": "[encoded data removed]",
      "text/plain": [
       "<Figure size 432x288 with 1 Axes>"
      ]
     },
     "metadata": {
      "needs_background": "light"
     },
     "output_type": "display_data"
    }
   ],
   "source": [
    "## Fit curve to px/nm plot\n",
    "\n",
    "p = np.polyfit(indices, wvl_vals, 2)\n",
    "x = np.linspace(np.min(indices), np.max(indices), len(indices))\n",
    "\n",
    "print(p)\n",
    "\n",
    "plt.plot(x, p[0]*x**2 + p[1]*x + p[2], label=f'{p[0]:0.2f}x^2 + {p[1]:0.2f}x + {p[2]:0.2f}')\n",
    "plt.scatter(indices, wvl.values(), marker='d', color='b')\n",
    "plt.xlabel('Detector pixel index')\n",
    "plt.ylabel('Lamp line wavelength')\n",
    "\n",
    "plt.legend()"
   ]
  },
  {
   "cell_type": "code",
   "execution_count": 49,
   "id": "3569f954",
   "metadata": {
    "ExecuteTime": {
     "end_time": "2021-09-24T07:14:21.141549Z",
     "start_time": "2021-09-24T07:14:21.132086Z"
    },
    "hidden": true
   },
   "outputs": [
    {
     "name": "stdout",
     "output_type": "stream",
     "text": [
      "557.3404511322955 694.6333233791331\n"
     ]
    },
    {
     "data": {
      "text/plain": [
       "array([557.34045113, 557.40515909, 557.46986714, ..., 694.50357398,\n",
       "       694.56844864, 694.63332338])"
      ]
     },
     "execution_count": 49,
     "metadata": {},
     "output_type": "execute_result"
    }
   ],
   "source": [
    "## Apply pixel solution, create wavelength axis\n",
    "\n",
    "pxl_axis = np.arange(0,len(arc_spectrum))\n",
    "wavelengths = p[0]*pxl_axis**2 + p[1]*pxl_axis + p[2]\n",
    "\n",
    "print(wavelengths[0], wavelengths[-1])\n",
    "wavelengths"
   ]
  },
  {
   "cell_type": "code",
   "execution_count": 50,
   "id": "025aca38",
   "metadata": {
    "ExecuteTime": {
     "end_time": "2021-09-24T07:16:56.888578Z",
     "start_time": "2021-09-24T07:16:56.694163Z"
    },
    "hidden": true
   },
   "outputs": [
    {
     "data": {
      "text/plain": [
       "Text(0.5, 1.0, 'Arc lamp spectrum\\nNeon, Hg-Ar, He')"
      ]
     },
     "execution_count": 50,
     "metadata": {},
     "output_type": "execute_result"
    },
    {
     "data": {
      "image/png": "[encoded data removed]",
      "text/plain": [
       "<Figure size 1152x288 with 1 Axes>"
      ]
     },
     "metadata": {
      "needs_background": "light"
     },
     "output_type": "display_data"
    }
   ],
   "source": [
    "plt.figure(figsize=(16,4))\n",
    "plt.plot(wavelengths, arc_spectrum)\n",
    "\n",
    "plt.xlabel('Wavelength (nm)')\n",
    "plt.ylabel('Intensity (detector counts)')\n",
    "plt.title('Arc lamp spectrum\\nNeon, Hg-Ar, He')"
   ]
  },
  {
   "cell_type": "markdown",
   "id": "0f887ed0",
   "metadata": {},
   "source": [
    "### Flat & bias calibration"
   ]
  },
  {
   "cell_type": "code",
   "execution_count": null,
   "id": "57dcae59",
   "metadata": {},
   "outputs": [],
   "source": []
  }
 ],
 "metadata": {
  "kernelspec": {
   "display_name": "Python 3",
   "language": "python",
   "name": "python3"
  },
  "language_info": {
   "codemirror_mode": {
    "name": "ipython",
    "version": 3
   },
   "file_extension": ".py",
   "mimetype": "text/x-python",
   "name": "python",
   "nbconvert_exporter": "python",
   "pygments_lexer": "ipython3",
   "version": "3.8.8"
  },
  "toc": {
   "base_numbering": 1,
   "nav_menu": {},
   "number_sections": true,
   "sideBar": true,
   "skip_h1_title": false,
   "title_cell": "Table of Contents",
   "title_sidebar": "Contents",
   "toc_cell": false,
   "toc_position": {
    "height": "calc(100% - 180px)",
    "left": "10px",
    "top": "150px",
    "width": "172.8px"
   },
   "toc_section_display": true,
   "toc_window_display": true
  },
  "varInspector": {
   "cols": {
    "lenName": 16,
    "lenType": 16,
    "lenVar": 40
   },
   "kernels_config": {
    "python": {
     "delete_cmd_postfix": "",
     "delete_cmd_prefix": "del ",
     "library": "var_list.py",
     "varRefreshCmd": "print(var_dic_list())"
    },
    "r": {
     "delete_cmd_postfix": ") ",
     "delete_cmd_prefix": "rm(",
     "library": "var_list.r",
     "varRefreshCmd": "cat(var_dic_list()) "
    }
   },
   "types_to_exclude": [
    "module",
    "function",
    "builtin_function_or_method",
    "instance",
    "_Feature"
   ],
   "window_display": false
  }
 },
 "nbformat": 4,
 "nbformat_minor": 5
}
