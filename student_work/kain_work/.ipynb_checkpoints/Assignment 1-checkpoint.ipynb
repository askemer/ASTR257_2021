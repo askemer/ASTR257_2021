{
 "cells": [
  {
   "cell_type": "code",
   "execution_count": 13,
   "id": "88844995",
   "metadata": {
    "ExecuteTime": {
     "end_time": "2021-09-18T16:06:12.163253Z",
     "start_time": "2021-09-18T16:06:12.159514Z"
    }
   },
   "outputs": [],
   "source": [
    "import numpy as np\n",
    "import pandas as pd\n",
    "from astropy.io import fits\n",
    "import matplotlib.pyplot as plt\n",
    "from photutils.centroids import centroid_com"
   ]
  },
  {
   "cell_type": "code",
   "execution_count": 25,
   "id": "31ea1f28",
   "metadata": {
    "ExecuteTime": {
     "end_time": "2021-09-18T16:36:16.268326Z",
     "start_time": "2021-09-18T16:36:16.119047Z"
    }
   },
   "outputs": [
    {
     "name": "stdout",
     "output_type": "stream",
     "text": [
      "(256, 256)\n"
     ]
    },
    {
     "data": {
      "text/plain": [
       "<matplotlib.image.AxesImage at 0x7fe778339c70>"
      ]
     },
     "execution_count": 25,
     "metadata": {},
     "output_type": "execute_result"
    },
    {
     "data": {
      "image/png": "[encoded data removed]",
      "text/plain": [
       "<Figure size 432x288 with 1 Axes>"
      ]
     },
     "metadata": {
      "needs_background": "light"
     },
     "output_type": "display_data"
    }
   ],
   "source": [
    "## Open FITS file\n",
    "\n",
    "fname = \"/Users/isabelkain/Desktop/ASTR257_2021/python/test_assignment/test.fits\"\n",
    "hdul = fits.open(fname)\n",
    "\n",
    "head = hdul[0].header\n",
    "data = hdul[0].data\n",
    "\n",
    "np.nan_to_num(data, copy=False, nan=0.0)\n",
    "\n",
    "print(np.shape(data))\n",
    "\n",
    "plt.imshow(data, cmap='gist_ncar')\n"
   ]
  },
  {
   "cell_type": "code",
   "execution_count": 45,
   "id": "e95f3b07",
   "metadata": {
    "ExecuteTime": {
     "end_time": "2021-09-18T16:47:12.564601Z",
     "start_time": "2021-09-18T16:47:12.307221Z"
    }
   },
   "outputs": [
    {
     "name": "stdout",
     "output_type": "stream",
     "text": [
      "Index of brightest location: (50, 56)\n"
     ]
    },
    {
     "data": {
      "image/png": "[encoded data removed]",
      "text/plain": [
       "<Figure size 432x288 with 2 Axes>"
      ]
     },
     "metadata": {
      "needs_background": "light"
     },
     "output_type": "display_data"
    }
   ],
   "source": [
    "## Find brightest region, crop to 40x40 area around it\n",
    "\n",
    "whr = data==data.max()\n",
    "maxloc = np.where(whr)\n",
    "\n",
    "rloc = maxloc[0][0]\n",
    "cloc = maxloc[1][0]\n",
    "\n",
    "print(f'Index of brightest location: ({rloc}, {cloc})')\n",
    "\n",
    "\n",
    "crop_data = data[rloc-20:rloc+20, cloc-20:cloc+20]\n",
    "\n",
    "plt.imshow(crop_data)\n",
    "plt.colorbar()\n",
    "\n",
    "\n",
    "## Save cropped data\n",
    "\n",
    "hdu = fits.PrimaryHDU(crop_data)\n",
    "hdul = fits.HDUList([hdu])\n",
    "hdul.writeto('test2.fits')\n"
   ]
  },
  {
   "cell_type": "code",
   "execution_count": 48,
   "id": "5544b8ce",
   "metadata": {
    "ExecuteTime": {
     "end_time": "2021-09-18T16:49:15.254384Z",
     "start_time": "2021-09-18T16:49:15.100527Z"
    }
   },
   "outputs": [
    {
     "data": {
      "text/plain": [
       "<matplotlib.legend.Legend at 0x7fe7a8e95040>"
      ]
     },
     "execution_count": 48,
     "metadata": {},
     "output_type": "execute_result"
    },
    {
     "data": {
      "image/png": "[encoded data removed]",
      "text/plain": [
       "<Figure size 432x288 with 2 Axes>"
      ]
     },
     "metadata": {
      "needs_background": "light"
     },
     "output_type": "display_data"
    }
   ],
   "source": [
    "## Find centroid of isolated region\n",
    "\n",
    "x1, y1 = centroid_com(crop_data)\n",
    "\n",
    "plt.imshow(crop_data)\n",
    "plt.colorbar()\n",
    "\n",
    "plt.scatter(y1, x1, marker='+', color='r', label='Centroid (COM)')\n",
    "plt.legend()"
   ]
  },
  {
   "cell_type": "code",
   "execution_count": null,
   "id": "fefa6ff3",
   "metadata": {},
   "outputs": [],
   "source": []
  }
 ],
 "metadata": {
  "kernelspec": {
   "display_name": "Python 3",
   "language": "python",
   "name": "python3"
  },
  "language_info": {
   "codemirror_mode": {
    "name": "ipython",
    "version": 3
   },
   "file_extension": ".py",
   "mimetype": "text/x-python",
   "name": "python",
   "nbconvert_exporter": "python",
   "pygments_lexer": "ipython3",
   "version": "3.8.8"
  },
  "toc": {
   "base_numbering": 1,
   "nav_menu": {},
   "number_sections": true,
   "sideBar": true,
   "skip_h1_title": false,
   "title_cell": "Table of Contents",
   "title_sidebar": "Contents",
   "toc_cell": false,
   "toc_position": {},
   "toc_section_display": true,
   "toc_window_display": false
  },
  "varInspector": {
   "cols": {
    "lenName": 16,
    "lenType": 16,
    "lenVar": 40
   },
   "kernels_config": {
    "python": {
     "delete_cmd_postfix": "",
     "delete_cmd_prefix": "del ",
     "library": "var_list.py",
     "varRefreshCmd": "print(var_dic_list())"
    },
    "r": {
     "delete_cmd_postfix": ") ",
     "delete_cmd_prefix": "rm(",
     "library": "var_list.r",
     "varRefreshCmd": "cat(var_dic_list()) "
    }
   },
   "types_to_exclude": [
    "module",
    "function",
    "builtin_function_or_method",
    "instance",
    "_Feature"
   ],
   "window_display": false
  }
 },
 "nbformat": 4,
 "nbformat_minor": 5
}
