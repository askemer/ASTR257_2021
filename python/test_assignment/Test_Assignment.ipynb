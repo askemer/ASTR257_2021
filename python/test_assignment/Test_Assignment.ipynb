{
 "cells": [
  {
   "cell_type": "markdown",
   "id": "f7711fda-5ede-4476-bd5b-5bd05c3d1c18",
   "metadata": {},
   "source": [
    "# Test Assignment"
   ]
  },
  {
   "cell_type": "code",
   "execution_count": 6,
   "id": "7d92ee03-c7af-4ab2-b375-43d7e283eee3",
   "metadata": {},
   "outputs": [],
   "source": [
    "# imports\n",
    "from astropy.io import fits\n",
    "import photutils"
   ]
  },
  {
   "cell_type": "markdown",
   "id": "0a5d385e-e32b-425d-aaf7-f42c971317f8",
   "metadata": {},
   "source": [
    "# Load up the FITS file"
   ]
  },
  {
   "cell_type": "code",
   "execution_count": 7,
   "id": "42c6e9e0-e100-4384-be78-149c2d11e400",
   "metadata": {},
   "outputs": [],
   "source": [
    "hdul = fits.open('test.fits')"
   ]
  },
  {
   "cell_type": "code",
   "execution_count": 8,
   "id": "d8f302e8-3490-43b9-99ee-d85c3090ebcd",
   "metadata": {},
   "outputs": [
    {
     "name": "stdout",
     "output_type": "stream",
     "text": [
      "Filename: test.fits\n",
      "No.    Name      Ver    Type      Cards   Dimensions   Format\n",
      "  0  PRIMARY       1 PrimaryHDU     269   (256, 256)   float32   \n"
     ]
    }
   ],
   "source": [
    "hdul.info()"
   ]
  },
  {
   "cell_type": "markdown",
   "id": "827c5733-4c43-473f-ad0b-70d97fbb70a0",
   "metadata": {},
   "source": [
    "## Header"
   ]
  },
  {
   "cell_type": "code",
   "execution_count": 10,
   "id": "9a9fabb2-09da-48fe-a1eb-6715ae2cd03e",
   "metadata": {},
   "outputs": [
    {
     "data": {
      "text/plain": [
       "SIMPLE  =                    T / Fits standard                                  \n",
       "BITPIX  =                  -32 / FOUR-BYTE SINGLE PRECISION FLOATING POINT      \n",
       "NAXIS   =                    2 / STANDARD FITS FORMAT                           \n",
       "NAXIS1  =                  256 / STANDARD FITS FORMAT                           \n",
       "NAXIS2  =                  256 / STANDARD FITS FORMAT                           \n",
       "ORIGIN  = 'Spitzer Science Center' / Organization generating this FITS file     \n",
       "CREATOR = 'S16.1.0 '           / SW version used to create this FITS file       \n",
       "TELESCOP= 'Spitzer '           / SPITZER Space Telescope                        \n",
       "INSTRUME= 'IRAC    '           / SPITZER Space Telescope instrument ID          \n",
       "CHNLNUM =                    2 / 1 digit instrument channel number              "
      ]
     },
     "execution_count": 10,
     "metadata": {},
     "output_type": "execute_result"
    }
   ],
   "source": [
    "hdul[0].header[0:10]"
   ]
  },
  {
   "cell_type": "code",
   "execution_count": null,
   "id": "a6e6d582-0eec-4d32-852c-5b50fe242bec",
   "metadata": {},
   "outputs": [],
   "source": [
    "# "
   ]
  }
 ],
 "metadata": {
  "kernelspec": {
   "display_name": "Python 3 (ipykernel)",
   "language": "python",
   "name": "python3"
  },
  "language_info": {
   "codemirror_mode": {
    "name": "ipython",
    "version": 3
   },
   "file_extension": ".py",
   "mimetype": "text/x-python",
   "name": "python",
   "nbconvert_exporter": "python",
   "pygments_lexer": "ipython3",
   "version": "3.9.6"
  }
 },
 "nbformat": 4,
 "nbformat_minor": 5
}
